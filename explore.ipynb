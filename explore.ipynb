{
 "cells": [
  {
   "cell_type": "code",
   "execution_count": 1,
   "metadata": {},
   "outputs": [],
   "source": [
    "import os\n",
    "import ssl\n",
    "from pyesgf.logon import LogonManager\n",
    "from pyesgf.search import SearchConnection"
   ]
  },
  {
   "cell_type": "code",
   "execution_count": 14,
   "metadata": {},
   "outputs": [
    {
     "data": {
      "text/plain": [
       "True"
      ]
     },
     "execution_count": 14,
     "metadata": {},
     "output_type": "execute_result"
    }
   ],
   "source": [
    "# Ensure that these environment variables are set, e.g. in your .bashrc\n",
    "USERNAME = os.environ.get('ESGF_USERNAME')\n",
    "PASSWORD = os.environ.get('ESGF_PASSWORD')\n",
    "\n",
    "# login to ESGF and generate SSL context\n",
    "myproxy_host = 'esgf-node.ipsl.upmc.fr'\n",
    "\n",
    "lm = LogonManager()\n",
    "lm.logon(username=USERNAME, password=PASSWORD, hostname=myproxy_host)\n",
    "\n",
    "sslcontext = ssl.create_default_context(purpose=ssl.Purpose.SERVER_AUTH)\n",
    "sslcontext.load_verify_locations(capath=lm.esgf_certs_dir)\n",
    "sslcontext.load_cert_chain(lm.esgf_credentials)\n",
    "\n",
    "# check if logged in\n",
    "lm.is_logged_on()"
   ]
  },
  {
   "cell_type": "code",
   "execution_count": null,
   "metadata": {},
   "outputs": [
    {
     "data": {
      "text/plain": [
       "61"
      ]
     },
     "execution_count": 15,
     "metadata": {},
     "output_type": "execute_result"
    }
   ],
   "source": [
    "# define your query, eg:\n",
    "query = {\n",
    "    'project': 'CMIP6',\n",
    "    'activity_drs': 'ScenarioMIP',\n",
    "    'experiment_id': 'ssp534-over',\n",
    "    'variable': 'tas',\n",
    "    'frequency': 'mon',\n",
    "}\n",
    "\n",
    "# check ESGF for number of datasets that satisfy query\n",
    "conn = SearchConnection('http://esgf-data.dkrz.de/esg-search', distrib=True)\n",
    "context = conn.new_context(**query, facets=query.keys())\n",
    "context.hit_count"
   ]
  },
  {
   "cell_type": "code",
   "execution_count": 17,
   "metadata": {},
   "outputs": [
    {
     "name": "stdout",
     "output_type": "stream",
     "text": [
      "CMIP6.ScenarioMIP.NCC.NorESM2-LM.ssp534-over.r1i1p1f1.Amon.tas.gn.v20210811|esgf.ceda.ac.uk\n",
      "CMIP6.ScenarioMIP.MRI.MRI-ESM2-0.ssp534-over.r1i1p1f1.Amon.tas.gn.v20190222|esgf.ceda.ac.uk\n",
      "CMIP6.ScenarioMIP.MRI.MRI-ESM2-0.ssp534-over.r1i1p1f1.Amon.tas.gn.v20191108|esgf.ceda.ac.uk\n",
      "CMIP6.ScenarioMIP.NCAR.CESM2-WACCM.ssp534-over.r1i1p1f1.Amon.tas.gn.v20200701|esgf.ceda.ac.uk\n",
      "CMIP6.ScenarioMIP.NCAR.CESM2-WACCM.ssp534-over.r2i1p1f1.Amon.tas.gn.v20200211|esgf.ceda.ac.uk\n",
      "CMIP6.ScenarioMIP.MOHC.UKESM1-0-LL.ssp534-over.r8i1p1f2.Amon.tas.gn.v20191104|esgf.ceda.ac.uk\n",
      "CMIP6.ScenarioMIP.EC-Earth-Consortium.EC-Earth3.ssp534-over.r101i1p1f1.Amon.tas.gr.v20200412|esgf.ceda.ac.uk\n",
      "CMIP6.ScenarioMIP.CNRM-CERFACS.CNRM-ESM2-1.ssp534-over.r2i1p1f2.Amon.tas.gr.v20190410|esgf.ceda.ac.uk\n",
      "CMIP6.ScenarioMIP.CNRM-CERFACS.CNRM-ESM2-1.ssp534-over.r3i1p1f2.Amon.tas.gr.v20190410|esgf.ceda.ac.uk\n",
      "CMIP6.ScenarioMIP.CNRM-CERFACS.CNRM-ESM2-1.ssp534-over.r4i1p1f2.Amon.tas.gr.v20190410|esgf.ceda.ac.uk\n",
      "CMIP6.ScenarioMIP.CNRM-CERFACS.CNRM-ESM2-1.ssp534-over.r5i1p1f2.Amon.tas.gr.v20190410|esgf.ceda.ac.uk\n",
      "CMIP6.ScenarioMIP.CCCma.CanESM5.ssp534-over.r1i1p1f1.Amon.tas.gn.v20190306|esgf.ceda.ac.uk\n",
      "CMIP6.ScenarioMIP.CCCma.CanESM5.ssp534-over.r1i1p1f1.Amon.tas.gn.v20190429|esgf.ceda.ac.uk\n",
      "CMIP6.ScenarioMIP.CCCma.CanESM5.ssp534-over.r2i1p1f1.Amon.tas.gn.v20190306|esgf.ceda.ac.uk\n",
      "CMIP6.ScenarioMIP.CCCma.CanESM5.ssp534-over.r2i1p1f1.Amon.tas.gn.v20190429|esgf.ceda.ac.uk\n",
      "CMIP6.ScenarioMIP.CCCma.CanESM5.ssp534-over.r3i1p1f1.Amon.tas.gn.v20190306|esgf.ceda.ac.uk\n",
      "CMIP6.ScenarioMIP.CCCma.CanESM5.ssp534-over.r3i1p1f1.Amon.tas.gn.v20190429|esgf.ceda.ac.uk\n",
      "CMIP6.ScenarioMIP.CCCma.CanESM5.ssp534-over.r4i1p1f1.Amon.tas.gn.v20190306|esgf.ceda.ac.uk\n",
      "CMIP6.ScenarioMIP.CCCma.CanESM5.ssp534-over.r4i1p1f1.Amon.tas.gn.v20190429|esgf.ceda.ac.uk\n",
      "CMIP6.ScenarioMIP.CCCma.CanESM5.ssp534-over.r5i1p1f1.Amon.tas.gn.v20190306|esgf.ceda.ac.uk\n",
      "CMIP6.ScenarioMIP.CCCma.CanESM5.ssp534-over.r5i1p1f1.Amon.tas.gn.v20190429|esgf.ceda.ac.uk\n",
      "CMIP6.ScenarioMIP.CMCC.CMCC-ESM2.ssp534-over.r1i1p1f1.Amon.tas.gn.v20210409|esgf.ceda.ac.uk\n",
      "CMIP6.ScenarioMIP.CAS.FGOALS-g3.ssp534-over.r1i1p1f1.Amon.tas.gn.v20200410|esgf.ceda.ac.uk\n",
      "CMIP6.ScenarioMIP.IPSL.IPSL-CM6A-LR.ssp534-over.r1i1p1f1.Amon.tas.gr.v20190909|esgf.ceda.ac.uk\n",
      "CMIP6.ScenarioMIP.MIROC.MIROC-ES2L.ssp534-over.r1i1p1f2.Amon.tas.gn.v20201014|esgf.ceda.ac.uk\n",
      "CMIP6.ScenarioMIP.MIROC.MIROC-ES2L.ssp534-over.r1i1p1f2.Amon.tas.gn.v20220314|esgf.ceda.ac.uk\n",
      "CMIP6.ScenarioMIP.MIROC.MIROC6.ssp534-over.r1i1p1f1.Amon.tas.gn.v20190807|esgf.ceda.ac.uk\n",
      "CMIP6.ScenarioMIP.MOHC.UKESM1-0-LL.ssp534-over.r1i1p1f2.Amon.tas.gn.v20190830|esgf.ceda.ac.uk\n",
      "CMIP6.ScenarioMIP.MOHC.UKESM1-0-LL.ssp534-over.r2i1p1f2.Amon.tas.gn.v20190830|esgf.ceda.ac.uk\n",
      "CMIP6.ScenarioMIP.MOHC.UKESM1-0-LL.ssp534-over.r3i1p1f2.Amon.tas.gn.v20190830|esgf.ceda.ac.uk\n",
      "CMIP6.ScenarioMIP.MOHC.UKESM1-0-LL.ssp534-over.r4i1p1f2.Amon.tas.gn.v20190903|esgf.ceda.ac.uk\n",
      "CMIP6.ScenarioMIP.MOHC.UKESM1-0-LL.ssp534-over.r4i1p1f2.Amon.tas.gn.v20210205|esgf.ceda.ac.uk\n",
      "CMIP6.ScenarioMIP.CNRM-CERFACS.CNRM-ESM2-1.ssp534-over.r5i1p1f2.Amon.tas.gr.v20190410|esg1.umr-cnrm.fr\n",
      "CMIP6.ScenarioMIP.CNRM-CERFACS.CNRM-ESM2-1.ssp534-over.r3i1p1f2.Amon.tas.gr.v20190410|esg1.umr-cnrm.fr\n",
      "CMIP6.ScenarioMIP.CNRM-CERFACS.CNRM-ESM2-1.ssp534-over.r4i1p1f2.Amon.tas.gr.v20190410|esg1.umr-cnrm.fr\n",
      "CMIP6.ScenarioMIP.CNRM-CERFACS.CNRM-ESM2-1.ssp534-over.r2i1p1f2.Amon.tas.gr.v20190410|esg1.umr-cnrm.fr\n",
      "CMIP6.ScenarioMIP.IPSL.IPSL-CM6A-LR.ssp534-over.r1i1p1f1.Amon.tas.gr.v20190909|vesg.ipsl.upmc.fr\n",
      "CMIP6.ScenarioMIP.CNRM-CERFACS.CNRM-ESM2-1.ssp534-over.r1i1p1f2.Amon.tas.gr.v20190328|esg1.umr-cnrm.fr\n",
      "CMIP6.ScenarioMIP.NCAR.CESM2-WACCM.ssp534-over.r1i1p1f1.Amon.tas.gn.v20200701|esgf3.dkrz.de\n",
      "CMIP6.ScenarioMIP.MOHC.UKESM1-0-LL.ssp534-over.r4i1p1f2.Amon.tas.gn.v20190903|esgf3.dkrz.de\n",
      "CMIP6.ScenarioMIP.MIROC.MIROC-ES2L.ssp534-over.r1i1p1f2.Amon.tas.gn.v20201014|esgf3.dkrz.de\n",
      "CMIP6.ScenarioMIP.CCCma.CanESM5.ssp534-over.r4i1p1f1.Amon.tas.gn.v20190429|esgf3.dkrz.de\n",
      "CMIP6.ScenarioMIP.CCCma.CanESM5.ssp534-over.r1i1p1f1.Amon.tas.gn.v20190429|esgf3.dkrz.de\n",
      "CMIP6.ScenarioMIP.CCCma.CanESM5.ssp534-over.r3i1p1f1.Amon.tas.gn.v20190429|esgf3.dkrz.de\n",
      "CMIP6.ScenarioMIP.CCCma.CanESM5.ssp534-over.r5i1p1f1.Amon.tas.gn.v20190429|esgf3.dkrz.de\n",
      "CMIP6.ScenarioMIP.CCCma.CanESM5.ssp534-over.r2i1p1f1.Amon.tas.gn.v20190429|esgf3.dkrz.de\n",
      "CMIP6.ScenarioMIP.CAS.FGOALS-g3.ssp534-over.r1i1p1f1.Amon.tas.gn.v20200410|esgf3.dkrz.de\n",
      "CMIP6.ScenarioMIP.CNRM-CERFACS.CNRM-ESM2-1.ssp534-over.r2i1p1f2.Amon.tas.gr.v20190410|esgf3.dkrz.de\n",
      "CMIP6.ScenarioMIP.CNRM-CERFACS.CNRM-ESM2-1.ssp534-over.r4i1p1f2.Amon.tas.gr.v20190410|esgf3.dkrz.de\n",
      "CMIP6.ScenarioMIP.IPSL.IPSL-CM6A-LR.ssp534-over.r1i1p1f1.Amon.tas.gr.v20190909|esgf3.dkrz.de\n",
      "CMIP6.ScenarioMIP.MIROC.MIROC6.ssp534-over.r1i1p1f1.Amon.tas.gn.v20190807|esgf3.dkrz.de\n",
      "CMIP6.ScenarioMIP.MRI.MRI-ESM2-0.ssp534-over.r1i1p1f1.Amon.tas.gn.v20191108|esgf3.dkrz.de\n",
      "CMIP6.ScenarioMIP.CNRM-CERFACS.CNRM-ESM2-1.ssp534-over.r3i1p1f2.Amon.tas.gr.v20190410|esgf3.dkrz.de\n",
      "CMIP6.ScenarioMIP.CNRM-CERFACS.CNRM-ESM2-1.ssp534-over.r5i1p1f2.Amon.tas.gr.v20190410|esgf3.dkrz.de\n",
      "CMIP6.ScenarioMIP.MOHC.UKESM1-0-LL.ssp534-over.r2i1p1f2.Amon.tas.gn.v20190830|esgf3.dkrz.de\n",
      "CMIP6.ScenarioMIP.MOHC.UKESM1-0-LL.ssp534-over.r1i1p1f2.Amon.tas.gn.v20190830|esgf3.dkrz.de\n",
      "CMIP6.ScenarioMIP.MOHC.UKESM1-0-LL.ssp534-over.r3i1p1f2.Amon.tas.gn.v20190830|esgf3.dkrz.de\n",
      "CMIP6.ScenarioMIP.MOHC.UKESM1-0-LL.ssp534-over.r8i1p1f2.Amon.tas.gn.v20191104|esgf3.dkrz.de\n",
      "CMIP6.ScenarioMIP.EC-Earth-Consortium.EC-Earth3.ssp534-over.r101i1p1f1.Amon.tas.gr.v20200412|esgf3.dkrz.de\n",
      "CMIP6.ScenarioMIP.CMCC.CMCC-ESM2.ssp534-over.r1i1p1f1.Amon.tas.gn.v20210409|esgf-node2.cmcc.it\n",
      "CMIP6.ScenarioMIP.AWI.AWI-ESM-1-REcoM.ssp534-over.r1i1p1f1.Amon.tas.gn.v20230314|esgf3.dkrz.de\n"
     ]
    }
   ],
   "source": [
    "# generate results and check datasets to verify all is working as expected\n",
    "results = context.search()\n",
    "for result in results:\n",
    "    print(result.dataset_id)"
   ]
  },
  {
   "cell_type": "code",
   "execution_count": 18,
   "metadata": {},
   "outputs": [
    {
     "name": "stdout",
     "output_type": "stream",
     "text": [
      "https://esgf3.dkrz.de/thredds/fileServer/cmip6/ScenarioMIP/AWI/AWI-ESM-1-REcoM/ssp534-over/r1i1p1f1/Amon/tas/gn/v20230314/tas_Amon_AWI-ESM-1-REcoM_ssp534-over_r1i1p1f1_gn_204001-205412.nc\n",
      "https://esgf3.dkrz.de/thredds/fileServer/cmip6/ScenarioMIP/AWI/AWI-ESM-1-REcoM/ssp534-over/r1i1p1f1/Amon/tas/gn/v20230314/tas_Amon_AWI-ESM-1-REcoM_ssp534-over_r1i1p1f1_gn_205501-207412.nc\n",
      "https://esgf3.dkrz.de/thredds/fileServer/cmip6/ScenarioMIP/AWI/AWI-ESM-1-REcoM/ssp534-over/r1i1p1f1/Amon/tas/gn/v20230314/tas_Amon_AWI-ESM-1-REcoM_ssp534-over_r1i1p1f1_gn_207501-209412.nc\n",
      "https://esgf3.dkrz.de/thredds/fileServer/cmip6/ScenarioMIP/AWI/AWI-ESM-1-REcoM/ssp534-over/r1i1p1f1/Amon/tas/gn/v20230314/tas_Amon_AWI-ESM-1-REcoM_ssp534-over_r1i1p1f1_gn_209501-210012.nc\n"
     ]
    }
   ],
   "source": [
    "# get most recent dataset and print download urls\n",
    "latest = list(results)[-1]\n",
    "files = latest.file_context().search(ignore_facet_check=True)\n",
    "for file in files:\n",
    "    print(file.download_url)"
   ]
  },
  {
   "cell_type": "code",
   "execution_count": null,
   "metadata": {},
   "outputs": [],
   "source": []
  }
 ],
 "metadata": {
  "kernelspec": {
   "display_name": "pyesgf-env",
   "language": "python",
   "name": "python3"
  },
  "language_info": {
   "codemirror_mode": {
    "name": "ipython",
    "version": 3
   },
   "file_extension": ".py",
   "mimetype": "text/x-python",
   "name": "python",
   "nbconvert_exporter": "python",
   "pygments_lexer": "ipython3",
   "version": "3.9.15"
  },
  "orig_nbformat": 4
 },
 "nbformat": 4,
 "nbformat_minor": 2
}
