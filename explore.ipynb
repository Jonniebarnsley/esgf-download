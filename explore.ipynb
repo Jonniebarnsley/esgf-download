{
 "cells": [
  {
   "cell_type": "code",
   "execution_count": 59,
   "metadata": {},
   "outputs": [],
   "source": [
    "import os\n",
    "import ssl\n",
    "from pyesgf.logon import LogonManager\n",
    "from pyesgf.search import SearchConnection\n",
    "\n",
    "# local imports\n",
    "from esgf_download.classes import Dataset"
   ]
  },
  {
   "cell_type": "code",
   "execution_count": 60,
   "metadata": {},
   "outputs": [
    {
     "data": {
      "text/plain": [
       "True"
      ]
     },
     "execution_count": 60,
     "metadata": {},
     "output_type": "execute_result"
    }
   ],
   "source": [
    "# Ensure that these environment variables are set, e.g. in your .bashrc\n",
    "USERNAME = os.environ.get('ESGF_USERNAME')\n",
    "PASSWORD = os.environ.get('ESGF_PASSWORD')\n",
    "\n",
    "# login to ESGF and generate SSL context\n",
    "myproxy_host = 'esgf-node.ipsl.upmc.fr'\n",
    "\n",
    "lm = LogonManager()\n",
    "lm.logon(username=USERNAME, password=PASSWORD, hostname=myproxy_host)\n",
    "\n",
    "sslcontext = ssl.create_default_context(purpose=ssl.Purpose.SERVER_AUTH)\n",
    "sslcontext.load_verify_locations(capath=lm.esgf_certs_dir)\n",
    "sslcontext.load_cert_chain(lm.esgf_credentials)\n",
    "\n",
    "# check if logged in\n",
    "lm.is_logged_on()"
   ]
  },
  {
   "cell_type": "code",
   "execution_count": null,
   "metadata": {},
   "outputs": [
    {
     "data": {
      "text/plain": [
       "0"
      ]
     },
     "execution_count": 61,
     "metadata": {},
     "output_type": "execute_result"
    }
   ],
   "source": [
    "# define your query, eg:\n",
    "query = {\n",
    "    'project': 'CMIP6',\n",
    "    'activity_drs': 'ScenarioMIP',\n",
    "    'experiment_id': 'ssp534-over',\n",
    "    'source_id': 'EC-Earth3-Veg',\n",
    "    'variable': 'thetao',\n",
    "    'frequency': 'mon',\n",
    "    #'variant_label': 'r1i1p1f2',\n",
    "    #'table_id': 'Omon',\n",
    "}\n",
    "\n",
    "# check ESGF for number of datasets that satisfy query\n",
    "#search_node = 'http://esgf-data.dkrz.de/esg-search'\n",
    "search_node = 'http://esgf-node.ipsl.upmc.fr/esg-search'\n",
    "#search_node = 'https://esgf.ceda.ac.uk/esg-search'\n",
    "conn = SearchConnection(search_node, distrib=True)\n",
    "context = conn.new_context(**query, facets=query.keys())\n",
    "context.hit_count"
   ]
  },
  {
   "cell_type": "code",
   "execution_count": 53,
   "metadata": {},
   "outputs": [],
   "source": [
    "# generate results and check datasets to verify all is working as expected\n",
    "results = context.search()"
   ]
  },
  {
   "cell_type": "code",
   "execution_count": 54,
   "metadata": {},
   "outputs": [
    {
     "name": "stdout",
     "output_type": "stream",
     "text": [
      "CMIP6.ScenarioMIP.EC-Earth-Consortium.EC-Earth3-Veg.ssp534-over.r1i1p1f1.Amon.tas.gr.v20221112|esg-dn1.nsc.liu.se\n"
     ]
    }
   ],
   "source": [
    "for result in results:\n",
    "    ds = Dataset(result)\n",
    "    if ds.end_date in ['230012', '229912']:\n",
    "        print(ds.dataset_id)"
   ]
  },
  {
   "cell_type": "code",
   "execution_count": 8,
   "metadata": {},
   "outputs": [],
   "source": [
    "models = ['MRI-ESM2-0', 'CESM2-WACCM', 'CanESM5', 'IPSL-CM6A-LR', 'CNRM-ESM2-1']"
   ]
  },
  {
   "cell_type": "code",
   "execution_count": 29,
   "metadata": {},
   "outputs": [
    {
     "name": "stdout",
     "output_type": "stream",
     "text": [
      "['204001', '204101', '204201', '204301', '204401', '204501', '204601', '204701', '204801', '204901', '205001', '205101', '205201', '205301', '205401', '205501', '205601', '205701', '205801', '205901', '206001', '206101', '206201', '206301', '206401', '206501', '206601', '206701', '206801', '206901', '207001', '207101', '207201', '207301', '207401', '207501', '207601', '207701', '207801', '207901', '208001', '208101', '208201', '208301', '208401', '208501', '208601', '208701', '208801', '208901', '209001', '209101', '209201', '209301', '209401', '209501', '209601', '209701', '209801', '209901', '210001', '210101', '210201', '210301', '210401', '210501', '210601', '210701', '210801', '210901', '211001', '211101', '211201', '211301', '211401', '211501', '211601', '211701', '211801', '211901', '212001', '212101', '212201', '212301', '212401', '212501', '212601', '212701', '212801', '212901', '213001', '213101', '213201', '213301', '213401', '213501', '213601', '213701', '213801', '213901', '214001', '214101', '214201', '214301', '214401', '214501', '214601', '214701', '214801', '214901', '215001', '215101', '215201', '215301', '215401', '215501', '215601', '215701', '215801', '215901', '216001', '216101', '216201', '216301', '216401', '216501', '216601', '216701', '216801', '216901', '217001', '217101', '217201', '217301', '217401', '217501', '217601', '217701', '217801', '217901', '218001', '218101', '218201', '218301', '218401', '218501', '218601', '218701', '218801', '218901', '219001', '219101', '219201', '219301', '219401', '219501', '219601', '219701', '219801', '219901', '220001', '220101', '220201', '220301', '220401', '220501', '220601', '220701', '220801', '220901', '221001', '221101', '221201', '221301', '221401', '221501', '221601', '221701', '221801', '221901', '222001', '222101', '222201', '222301', '222401', '222501', '222601', '222701', '222801', '222901', '223001', '223101', '223201', '223301', '223401', '223501', '223601', '223701', '223801', '223901', '224001', '224101', '224201', '224301', '224401', '224501', '224601', '224701', '224801', '224901', '225001', '225101', '225201', '225301', '225401', '225501', '225601', '225701', '225801', '225901', '226001', '226101', '226201', '226301', '226401', '226501', '226601', '226701', '226801', '226901', '227001', '227101', '227201', '227301', '227401', '227501', '227601', '227701', '227801', '227901', '228001', '228101', '228201', '228301', '228401', '228501', '228601', '228701', '228801', '228901', '229001', '229101', '229201', '229301', '229401', '229501', '229601', '229701', '229801', '229901', '230001']\n"
     ]
    }
   ],
   "source": [
    "print([file.start_date for file in ds.files])"
   ]
  },
  {
   "cell_type": "code",
   "execution_count": null,
   "metadata": {},
   "outputs": [
    {
     "ename": "SyntaxError",
     "evalue": "can't use starred expression here (3259988686.py, line 4)",
     "output_type": "error",
     "traceback": [
      "\u001b[0;36m  Cell \u001b[0;32mIn[58], line 4\u001b[0;36m\u001b[0m\n\u001b[0;31m    *test1\u001b[0m\n\u001b[0m    ^\u001b[0m\n\u001b[0;31mSyntaxError\u001b[0m\u001b[0;31m:\u001b[0m can't use starred expression here\n"
     ]
    }
   ],
   "source": [
    "test = {'a': 1, 'b': 2}\n",
    "test2 = {'c': 3}\n",
    "\n",
    "**test1"
   ]
  },
  {
   "cell_type": "code",
   "execution_count": null,
   "metadata": {},
   "outputs": [],
   "source": []
  }
 ],
 "metadata": {
  "kernelspec": {
   "display_name": "pyesgf-env",
   "language": "python",
   "name": "python3"
  },
  "language_info": {
   "codemirror_mode": {
    "name": "ipython",
    "version": 3
   },
   "file_extension": ".py",
   "mimetype": "text/x-python",
   "name": "python",
   "nbconvert_exporter": "python",
   "pygments_lexer": "ipython3",
   "version": "3.9.15"
  },
  "orig_nbformat": 4
 },
 "nbformat": 4,
 "nbformat_minor": 2
}
