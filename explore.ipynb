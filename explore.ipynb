{
 "cells": [
  {
   "cell_type": "code",
   "execution_count": null,
   "metadata": {},
   "outputs": [],
   "source": [
    "import os\n",
    "import ssl\n",
    "from pyesgf.logon import LogonManager\n",
    "from pyesgf.search import SearchConnection"
   ]
  },
  {
   "cell_type": "code",
   "execution_count": 10,
   "metadata": {},
   "outputs": [],
   "source": [
    "# define your query, eg:\n",
    "query = {\n",
    "    'project': 'CMIP6',\n",
    "    'activity_drs': 'ScenarioMIP',\n",
    "    'experiment_id': 'ssp534-over',\n",
    "    'variable': 'tas',\n",
    "    'frequency': 'mon'\n",
    "}\n",
    "\n",
    "# ensure the following are saved as environment variables\n",
    "USERNAME = os.environ['ESGF_USERNAME']\n",
    "PASSWORD = os.environ['ESGF_PASSWORD']\n",
    "DATA_PATH = os.environ['DATA_HOME']"
   ]
  },
  {
   "cell_type": "code",
   "execution_count": 11,
   "metadata": {},
   "outputs": [
    {
     "data": {
      "text/plain": [
       "61"
      ]
     },
     "execution_count": 11,
     "metadata": {},
     "output_type": "execute_result"
    }
   ],
   "source": [
    "# check ESGF for number of datasets that satisfy query\n",
    "conn = SearchConnection('http://esgf-data.dkrz.de/esg-search', distrib=True)\n",
    "context = conn.new_context(**query, facets=query.keys())\n",
    "context.hit_count"
   ]
  },
  {
   "cell_type": "code",
   "execution_count": 12,
   "metadata": {},
   "outputs": [
    {
     "data": {
      "text/plain": [
       "True"
      ]
     },
     "execution_count": 12,
     "metadata": {},
     "output_type": "execute_result"
    }
   ],
   "source": [
    "# login to ESGF and generate SSL context\n",
    "myproxy_host = 'esgf-node.ipsl.upmc.fr'\n",
    "\n",
    "lm = LogonManager()\n",
    "lm.logon(username=USERNAME, password=PASSWORD, hostname=myproxy_host)\n",
    "\n",
    "sslcontext = ssl.create_default_context(purpose=ssl.Purpose.SERVER_AUTH)\n",
    "sslcontext.load_verify_locations(capath=lm.esgf_certs_dir)\n",
    "sslcontext.load_cert_chain(lm.esgf_credentials)\n",
    "\n",
    "# check if logged in\n",
    "lm.is_logged_on()"
   ]
  },
  {
   "cell_type": "code",
   "execution_count": 13,
   "metadata": {},
   "outputs": [
    {
     "data": {
      "text/plain": [
       "'CMIP6.ScenarioMIP.NCC.NorESM2-LM.ssp534-over.r1i1p1f1.Amon.tas.gn.v20210811|esgf.ceda.ac.uk'"
      ]
     },
     "execution_count": 13,
     "metadata": {},
     "output_type": "execute_result"
    }
   ],
   "source": [
    "# generate results and check an example dataset to verify all is working as expected\n",
    "results = context.search()\n",
    "example_dataset = results[0]\n",
    "example_dataset.dataset_id"
   ]
  },
  {
   "cell_type": "code",
   "execution_count": 14,
   "metadata": {},
   "outputs": [
    {
     "data": {
      "text/plain": [
       "'https://esgf.ceda.ac.uk/thredds/fileServer/esg_cmip6/CMIP6/ScenarioMIP/NCC/NorESM2-LM/ssp534-over/r1i1p1f1/Amon/tas/gn/v20210811/tas_Amon_NorESM2-LM_ssp534-over_r1i1p1f1_gn_204001-204912.nc'"
      ]
     },
     "execution_count": 14,
     "metadata": {},
     "output_type": "execute_result"
    }
   ],
   "source": [
    "# and now an example file within that dataset, including its http download link\n",
    "example_files = example_dataset.file_context().search(ignore_facet_check=True)\n",
    "example_file = example_files[0]\n",
    "example_file.download_url"
   ]
  }
 ],
 "metadata": {
  "kernelspec": {
   "display_name": "pyesgf-env",
   "language": "python",
   "name": "python3"
  },
  "language_info": {
   "codemirror_mode": {
    "name": "ipython",
    "version": 3
   },
   "file_extension": ".py",
   "mimetype": "text/x-python",
   "name": "python",
   "nbconvert_exporter": "python",
   "pygments_lexer": "ipython3",
   "version": "3.9.15"
  },
  "orig_nbformat": 4
 },
 "nbformat": 4,
 "nbformat_minor": 2
}
