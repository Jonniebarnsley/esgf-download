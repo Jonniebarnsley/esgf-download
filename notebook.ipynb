{
 "cells": [
  {
   "cell_type": "code",
   "execution_count": 1,
   "metadata": {},
   "outputs": [],
   "source": [
    "import os\n",
    "import ssl\n",
    "from pyesgf.logon import LogonManager\n",
    "from pyesgf.search import SearchConnection\n",
    "\n",
    "# local imports\n",
    "from esgf_download.classes import Dataset"
   ]
  },
  {
   "cell_type": "code",
   "execution_count": null,
   "metadata": {},
   "outputs": [
    {
     "ename": "Error",
     "evalue": "[('SSL routines', '', 'wrong version number')]",
     "output_type": "error",
     "traceback": [
      "\u001b[0;31m---------------------------------------------------------------------------\u001b[0m",
      "\u001b[0;31mError\u001b[0m                                     Traceback (most recent call last)",
      "Cell \u001b[0;32mIn[3], line 9\u001b[0m\n\u001b[1;32m      6\u001b[0m myproxy_host \u001b[38;5;241m=\u001b[39m \u001b[38;5;124m'\u001b[39m\u001b[38;5;124mesgf-node.ipsl.upmc.fr\u001b[39m\u001b[38;5;124m'\u001b[39m\n\u001b[1;32m      8\u001b[0m lm \u001b[38;5;241m=\u001b[39m LogonManager()\n\u001b[0;32m----> 9\u001b[0m lm\u001b[38;5;241m.\u001b[39mlogon(username\u001b[38;5;241m=\u001b[39mUSERNAME, password\u001b[38;5;241m=\u001b[39mPASSWORD, hostname\u001b[38;5;241m=\u001b[39mmyproxy_host, bootstrap\u001b[38;5;241m=\u001b[39m\u001b[38;5;28;01mTrue\u001b[39;00m)\n\u001b[1;32m     11\u001b[0m \u001b[38;5;66;03m# sslcontext = ssl.create_default_context(purpose=ssl.Purpose.SERVER_AUTH)\u001b[39;00m\n\u001b[1;32m     12\u001b[0m \u001b[38;5;66;03m# sslcontext.load_verify_locations(capath=lm.esgf_certs_dir)\u001b[39;00m\n\u001b[1;32m     13\u001b[0m \u001b[38;5;66;03m# sslcontext.load_cert_chain(lm.esgf_credentials)\u001b[39;00m\n\u001b[1;32m     14\u001b[0m \n\u001b[1;32m     15\u001b[0m \u001b[38;5;66;03m# check if logged in\u001b[39;00m\n\u001b[1;32m     16\u001b[0m lm\u001b[38;5;241m.\u001b[39mis_logged_on()\n",
      "File \u001b[0;32m~/opt/anaconda3/envs/esgf/lib/python3.11/site-packages/pyesgf/logon.py:184\u001b[0m, in \u001b[0;36mLogonManager.logon\u001b[0;34m(self, username, password, hostname, bootstrap, update_trustroots, interactive)\u001b[0m\n\u001b[1;32m    180\u001b[0m     \u001b[38;5;28;01mraise\u001b[39;00m OpenidResolutionError(\u001b[38;5;124m'\u001b[39m\u001b[38;5;124mFull logon details not available\u001b[39m\u001b[38;5;124m'\u001b[39m)\n\u001b[1;32m    182\u001b[0m c \u001b[38;5;241m=\u001b[39m MyProxyClient(hostname\u001b[38;5;241m=\u001b[39mhostname, caCertDir\u001b[38;5;241m=\u001b[39m\u001b[38;5;28mself\u001b[39m\u001b[38;5;241m.\u001b[39mesgf_certs_dir)\n\u001b[0;32m--> 184\u001b[0m creds \u001b[38;5;241m=\u001b[39m c\u001b[38;5;241m.\u001b[39mlogon(username, password,\n\u001b[1;32m    185\u001b[0m                 bootstrap\u001b[38;5;241m=\u001b[39mbootstrap,\n\u001b[1;32m    186\u001b[0m                 updateTrustRoots\u001b[38;5;241m=\u001b[39mupdate_trustroots)\n\u001b[1;32m    187\u001b[0m \u001b[38;5;28;01mwith\u001b[39;00m \u001b[38;5;28mopen\u001b[39m(\u001b[38;5;28mself\u001b[39m\u001b[38;5;241m.\u001b[39mesgf_credentials, \u001b[38;5;124m'\u001b[39m\u001b[38;5;124mwb\u001b[39m\u001b[38;5;124m'\u001b[39m) \u001b[38;5;28;01mas\u001b[39;00m fh:\n\u001b[1;32m    188\u001b[0m     \u001b[38;5;28;01mfor\u001b[39;00m cred \u001b[38;5;129;01min\u001b[39;00m creds:\n",
      "File \u001b[0;32m~/opt/anaconda3/envs/esgf/lib/python3.11/site-packages/myproxy/client/__init__.py:1453\u001b[0m, in \u001b[0;36mMyProxyClient.logon\u001b[0;34m(self, username, passphrase, credname, lifetime, keyPair, certReq, nBitsForKey, bootstrap, updateTrustRoots, authnGetTrustRootsCall, sslCertFile, sslKeyFile, sslKeyFilePassphrase)\u001b[0m\n\u001b[1;32m   1450\u001b[0m     \u001b[38;5;28;01melse\u001b[39;00m:\n\u001b[1;32m   1451\u001b[0m         getTrustRootsKw \u001b[38;5;241m=\u001b[39m {}\n\u001b[0;32m-> 1453\u001b[0m     \u001b[38;5;28mself\u001b[39m\u001b[38;5;241m.\u001b[39mgetTrustRoots(writeToCACertDir\u001b[38;5;241m=\u001b[39m\u001b[38;5;28;01mTrue\u001b[39;00m,\n\u001b[1;32m   1454\u001b[0m                        bootstrap\u001b[38;5;241m=\u001b[39mbootstrap,\n\u001b[1;32m   1455\u001b[0m                        \u001b[38;5;241m*\u001b[39m\u001b[38;5;241m*\u001b[39mgetTrustRootsKw)\n\u001b[1;32m   1457\u001b[0m lifetime \u001b[38;5;241m=\u001b[39m lifetime \u001b[38;5;129;01mor\u001b[39;00m \u001b[38;5;28mself\u001b[39m\u001b[38;5;241m.\u001b[39mproxyCertLifetime\n\u001b[1;32m   1459\u001b[0m \u001b[38;5;66;03m# Basic sanity check on username to avoid overhead on server\u001b[39;00m\n",
      "File \u001b[0;32m~/opt/anaconda3/envs/esgf/lib/python3.11/site-packages/myproxy/client/__init__.py:1612\u001b[0m, in \u001b[0;36mMyProxyClient.getTrustRoots\u001b[0;34m(self, username, passphrase, writeToCACertDir, bootstrap)\u001b[0m\n\u001b[1;32m   1609\u001b[0m conn\u001b[38;5;241m.\u001b[39mconnect((\u001b[38;5;28mself\u001b[39m\u001b[38;5;241m.\u001b[39mhostname, \u001b[38;5;28mself\u001b[39m\u001b[38;5;241m.\u001b[39mport))\n\u001b[1;32m   1611\u001b[0m \u001b[38;5;66;03m# send globus compatibility stuff\u001b[39;00m\n\u001b[0;32m-> 1612\u001b[0m conn\u001b[38;5;241m.\u001b[39mwrite(\u001b[38;5;28mself\u001b[39m\u001b[38;5;241m.\u001b[39m\u001b[38;5;18m__class__\u001b[39m\u001b[38;5;241m.\u001b[39mGLOBUS_INIT_MSG)\n\u001b[1;32m   1614\u001b[0m \u001b[38;5;66;03m# send get command - ensure conversion from unicode before writing\u001b[39;00m\n\u001b[1;32m   1615\u001b[0m cmd \u001b[38;5;241m=\u001b[39m \u001b[38;5;28mself\u001b[39m\u001b[38;5;241m.\u001b[39mGET_TRUST_ROOTS_CMD \u001b[38;5;241m%\u001b[39m (_string2bytes(username),\n\u001b[1;32m   1616\u001b[0m                                   _string2bytes(passphrase))\n",
      "File \u001b[0;32m~/opt/anaconda3/envs/esgf/lib/python3.11/site-packages/OpenSSL/SSL.py:1899\u001b[0m, in \u001b[0;36mConnection.send\u001b[0;34m(self, buf, flags)\u001b[0m\n\u001b[1;32m   1894\u001b[0m     \u001b[38;5;28;01mraise\u001b[39;00m \u001b[38;5;167;01mValueError\u001b[39;00m(\n\u001b[1;32m   1895\u001b[0m         \u001b[38;5;124m\"\u001b[39m\u001b[38;5;124mCannot send more than 2**31-1 bytes at once.\u001b[39m\u001b[38;5;124m\"\u001b[39m\n\u001b[1;32m   1896\u001b[0m     )\n\u001b[1;32m   1898\u001b[0m result \u001b[38;5;241m=\u001b[39m _lib\u001b[38;5;241m.\u001b[39mSSL_write(\u001b[38;5;28mself\u001b[39m\u001b[38;5;241m.\u001b[39m_ssl, data, \u001b[38;5;28mlen\u001b[39m(data))\n\u001b[0;32m-> 1899\u001b[0m \u001b[38;5;28mself\u001b[39m\u001b[38;5;241m.\u001b[39m_raise_ssl_error(\u001b[38;5;28mself\u001b[39m\u001b[38;5;241m.\u001b[39m_ssl, result)\n\u001b[1;32m   1901\u001b[0m \u001b[38;5;28;01mreturn\u001b[39;00m result\n",
      "File \u001b[0;32m~/opt/anaconda3/envs/esgf/lib/python3.11/site-packages/OpenSSL/SSL.py:1715\u001b[0m, in \u001b[0;36mConnection._raise_ssl_error\u001b[0;34m(self, ssl, result)\u001b[0m\n\u001b[1;32m   1713\u001b[0m reason \u001b[38;5;241m=\u001b[39m _lib\u001b[38;5;241m.\u001b[39mERR_GET_REASON(peeked_error)\n\u001b[1;32m   1714\u001b[0m \u001b[38;5;28;01mif\u001b[39;00m _lib\u001b[38;5;241m.\u001b[39mCryptography_HAS_UNEXPECTED_EOF_WHILE_READING:\n\u001b[0;32m-> 1715\u001b[0m     _openssl_assert(\n\u001b[1;32m   1716\u001b[0m         reason \u001b[38;5;241m==\u001b[39m _lib\u001b[38;5;241m.\u001b[39mSSL_R_UNEXPECTED_EOF_WHILE_READING\n\u001b[1;32m   1717\u001b[0m     )\n\u001b[1;32m   1718\u001b[0m     _lib\u001b[38;5;241m.\u001b[39mERR_clear_error()\n\u001b[1;32m   1719\u001b[0m     \u001b[38;5;28;01mraise\u001b[39;00m SysCallError(\u001b[38;5;241m-\u001b[39m\u001b[38;5;241m1\u001b[39m, \u001b[38;5;124m\"\u001b[39m\u001b[38;5;124mUnexpected EOF\u001b[39m\u001b[38;5;124m\"\u001b[39m)\n",
      "File \u001b[0;32m~/opt/anaconda3/envs/esgf/lib/python3.11/site-packages/OpenSSL/_util.py:71\u001b[0m, in \u001b[0;36mmake_assert.<locals>.openssl_assert\u001b[0;34m(ok)\u001b[0m\n\u001b[1;32m     67\u001b[0m \u001b[38;5;250m\u001b[39m\u001b[38;5;124;03m\"\"\"\u001b[39;00m\n\u001b[1;32m     68\u001b[0m \u001b[38;5;124;03mIf *ok* is not True, retrieve the error from OpenSSL and raise it.\u001b[39;00m\n\u001b[1;32m     69\u001b[0m \u001b[38;5;124;03m\"\"\"\u001b[39;00m\n\u001b[1;32m     70\u001b[0m \u001b[38;5;28;01mif\u001b[39;00m ok \u001b[38;5;129;01mis\u001b[39;00m \u001b[38;5;129;01mnot\u001b[39;00m \u001b[38;5;28;01mTrue\u001b[39;00m:\n\u001b[0;32m---> 71\u001b[0m     exception_from_error_queue(error)\n",
      "File \u001b[0;32m~/opt/anaconda3/envs/esgf/lib/python3.11/site-packages/OpenSSL/_util.py:57\u001b[0m, in \u001b[0;36mexception_from_error_queue\u001b[0;34m(exception_type)\u001b[0m\n\u001b[1;32m     48\u001b[0m         \u001b[38;5;28;01mbreak\u001b[39;00m\n\u001b[1;32m     49\u001b[0m     errors\u001b[38;5;241m.\u001b[39mappend(\n\u001b[1;32m     50\u001b[0m         (\n\u001b[1;32m     51\u001b[0m             text(lib\u001b[38;5;241m.\u001b[39mERR_lib_error_string(error)),\n\u001b[0;32m   (...)\u001b[0m\n\u001b[1;32m     54\u001b[0m         )\n\u001b[1;32m     55\u001b[0m     )\n\u001b[0;32m---> 57\u001b[0m \u001b[38;5;28;01mraise\u001b[39;00m exception_type(errors)\n",
      "\u001b[0;31mError\u001b[0m: [('SSL routines', '', 'wrong version number')]"
     ]
    }
   ],
   "source": [
    "# Ensure that these environment variables are set, e.g. in your .bashrc\n",
    "USERNAME = os.environ.get('ESGF_USERNAME')\n",
    "PASSWORD = os.environ.get('ESGF_PASSWORD')\n",
    "\n",
    "# login to ESGF and generate SSL context\n",
    "myproxy_host = 'esgf-node.ipsl.upmc.fr'\n",
    "\n",
    "lm = LogonManager()\n",
    "lm.logon(username=USERNAME, password=PASSWORD, hostname=myproxy_host, bootstrap=True)\n",
    "\n",
    "sslcontext = ssl.create_default_context(purpose=ssl.Purpose.SERVER_AUTH)\n",
    "sslcontext.load_verify_locations(capath=lm.esgf_certs_dir)\n",
    "sslcontext.load_cert_chain(lm.esgf_credentials)\n",
    "\n",
    "# check if logged in\n",
    "lm.is_logged_on()"
   ]
  },
  {
   "cell_type": "code",
   "execution_count": 8,
   "metadata": {},
   "outputs": [
    {
     "data": {
      "text/plain": [
       "3"
      ]
     },
     "execution_count": 8,
     "metadata": {},
     "output_type": "execute_result"
    }
   ],
   "source": [
    "# define your query, eg:\n",
    "query = {\n",
    "    'project': 'CMIP6',\n",
    "    'activity_drs': 'ScenarioMIP',\n",
    "    'experiment_id': 'ssp585',\n",
    "    'source_id': 'GISS-E2-1-G',\n",
    "    'variable': 'thetao',\n",
    "    'frequency': 'mon',\n",
    "    'variant_label': 'r2i1p1f2',\n",
    "    'table_id': 'Omon',\n",
    "    #'data_node': 'esgf-node.ornl.gov'\n",
    "}\n",
    "\n",
    "# check ESGF for number of datasets that satisfy query\n",
    "#search_node = 'http://esgf-data.dkrz.de/esg-search'\n",
    "#search_node = 'http://esgf-node.ipsl.upmc.fr/esg-search'\n",
    "#search_node = 'https://esgf.ceda.ac.uk/esg-search'\n",
    "#search_node = \"https://esgf-node.ornl.gov/esg-search\"\n",
    "search_node = 'https://esgf-node.llnl.gov/esg-search'\n",
    "#search_node = \"https://esg-dn1.nsc.liu.se/esg-search\"\n",
    "conn = SearchConnection(search_node, distrib=True)\n",
    "context = conn.new_context(**query, facets=query.keys())\n",
    "context.hit_count"
   ]
  },
  {
   "cell_type": "code",
   "execution_count": 10,
   "metadata": {},
   "outputs": [],
   "source": [
    "# generate results and check datasets to verify all is working as expected\n",
    "results = context.search()"
   ]
  },
  {
   "cell_type": "code",
   "execution_count": 12,
   "metadata": {},
   "outputs": [
    {
     "name": "stdout",
     "output_type": "stream",
     "text": [
      "CMIP6.ScenarioMIP.NASA-GISS.GISS-E2-1-G.ssp585.r2i1p1f2.Omon.thetao.gn.v20200115|dpesgf03.nccs.nasa.gov\n",
      "2300-12-16 12:00:00\n",
      "CMIP6.ScenarioMIP.NASA-GISS.GISS-E2-1-G.ssp585.r2i1p1f2.Omon.thetao.gn.v20200115|eagle.alcf.anl.gov\n",
      "2300-10-08 00:00:00\n",
      "CMIP6.ScenarioMIP.NASA-GISS.GISS-E2-1-G.ssp585.r2i1p1f2.Omon.thetao.gn.v20200115|esgf-node.ornl.gov\n",
      "2300-10-08 00:00:00\n"
     ]
    }
   ],
   "source": [
    "for result in results:\n",
    "    ds = Dataset(result)\n",
    "    #if ds.end_date in ['230012', '229912']:\n",
    "    print(ds.dataset_id)\n",
    "    print(ds.end_date)"
   ]
  },
  {
   "cell_type": "code",
   "execution_count": 8,
   "metadata": {},
   "outputs": [],
   "source": [
    "models = ['MRI-ESM2-0', 'CESM2-WACCM', 'CanESM5', 'IPSL-CM6A-LR', 'CNRM-ESM2-1']"
   ]
  },
  {
   "cell_type": "code",
   "execution_count": 29,
   "metadata": {},
   "outputs": [
    {
     "name": "stdout",
     "output_type": "stream",
     "text": [
      "['204001', '204101', '204201', '204301', '204401', '204501', '204601', '204701', '204801', '204901', '205001', '205101', '205201', '205301', '205401', '205501', '205601', '205701', '205801', '205901', '206001', '206101', '206201', '206301', '206401', '206501', '206601', '206701', '206801', '206901', '207001', '207101', '207201', '207301', '207401', '207501', '207601', '207701', '207801', '207901', '208001', '208101', '208201', '208301', '208401', '208501', '208601', '208701', '208801', '208901', '209001', '209101', '209201', '209301', '209401', '209501', '209601', '209701', '209801', '209901', '210001', '210101', '210201', '210301', '210401', '210501', '210601', '210701', '210801', '210901', '211001', '211101', '211201', '211301', '211401', '211501', '211601', '211701', '211801', '211901', '212001', '212101', '212201', '212301', '212401', '212501', '212601', '212701', '212801', '212901', '213001', '213101', '213201', '213301', '213401', '213501', '213601', '213701', '213801', '213901', '214001', '214101', '214201', '214301', '214401', '214501', '214601', '214701', '214801', '214901', '215001', '215101', '215201', '215301', '215401', '215501', '215601', '215701', '215801', '215901', '216001', '216101', '216201', '216301', '216401', '216501', '216601', '216701', '216801', '216901', '217001', '217101', '217201', '217301', '217401', '217501', '217601', '217701', '217801', '217901', '218001', '218101', '218201', '218301', '218401', '218501', '218601', '218701', '218801', '218901', '219001', '219101', '219201', '219301', '219401', '219501', '219601', '219701', '219801', '219901', '220001', '220101', '220201', '220301', '220401', '220501', '220601', '220701', '220801', '220901', '221001', '221101', '221201', '221301', '221401', '221501', '221601', '221701', '221801', '221901', '222001', '222101', '222201', '222301', '222401', '222501', '222601', '222701', '222801', '222901', '223001', '223101', '223201', '223301', '223401', '223501', '223601', '223701', '223801', '223901', '224001', '224101', '224201', '224301', '224401', '224501', '224601', '224701', '224801', '224901', '225001', '225101', '225201', '225301', '225401', '225501', '225601', '225701', '225801', '225901', '226001', '226101', '226201', '226301', '226401', '226501', '226601', '226701', '226801', '226901', '227001', '227101', '227201', '227301', '227401', '227501', '227601', '227701', '227801', '227901', '228001', '228101', '228201', '228301', '228401', '228501', '228601', '228701', '228801', '228901', '229001', '229101', '229201', '229301', '229401', '229501', '229601', '229701', '229801', '229901', '230001']\n"
     ]
    }
   ],
   "source": [
    "print([file.start_date for file in ds.files])"
   ]
  },
  {
   "cell_type": "code",
   "execution_count": null,
   "metadata": {},
   "outputs": [
    {
     "ename": "SyntaxError",
     "evalue": "can't use starred expression here (3259988686.py, line 4)",
     "output_type": "error",
     "traceback": [
      "\u001b[0;36m  Cell \u001b[0;32mIn[58], line 4\u001b[0;36m\u001b[0m\n\u001b[0;31m    *test1\u001b[0m\n\u001b[0m    ^\u001b[0m\n\u001b[0;31mSyntaxError\u001b[0m\u001b[0;31m:\u001b[0m can't use starred expression here\n"
     ]
    }
   ],
   "source": [
    "test = {'a': 1, 'b': 2}\n",
    "test2 = {'c': 3}\n",
    "\n",
    "**test1"
   ]
  },
  {
   "cell_type": "code",
   "execution_count": null,
   "metadata": {},
   "outputs": [],
   "source": []
  }
 ],
 "metadata": {
  "kernelspec": {
   "display_name": "esgf",
   "language": "python",
   "name": "python3"
  },
  "language_info": {
   "codemirror_mode": {
    "name": "ipython",
    "version": 3
   },
   "file_extension": ".py",
   "mimetype": "text/x-python",
   "name": "python",
   "nbconvert_exporter": "python",
   "pygments_lexer": "ipython3",
   "version": "3.11.0"
  },
  "orig_nbformat": 4
 },
 "nbformat": 4,
 "nbformat_minor": 2
}
